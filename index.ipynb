{
 "cells": [
  {
   "cell_type": "markdown",
   "metadata": {},
   "source": [
    "# Subplots and Enumeration - Lab\n",
    "\n",
    "## Introduction\n",
    "\n",
    "In this lab, we'll get some practice creating **_subplots_** and explore how we can use the `enumerate` keyword to make creating them a bit easier!\n",
    "\n",
    "## Objectives\n",
    "\n",
    "You will be able to:\n",
    "\n",
    "* Create subplots using a Matplotlib figure\n",
    "* Use the enumerate function in a for loop to track the index while iterating over a collection\n",
    "\n",
    "## Getting Started\n",
    "\n",
    "For this lab, we'll explore a dataset containing yearly population data about different countries and regions around the globe. Let's start by importing the dataset so we can get to work.\n",
    "\n",
    "In the cell below: \n",
    "\n",
    "* Import `pandas` and set the standard alias of `pd` \n",
    "* Import the `pyplot` module from `matplotlib` and set the standard alias of `plt` \n",
    "* Set matplotlib visualizations to appear inline with the command `%matplotlib inline` "
   ]
  },
  {
   "cell_type": "code",
   "execution_count": 2,
   "metadata": {},
   "outputs": [],
   "source": [
    "# Import pandas\n",
    "import pandas as pd\n",
    "# Import matplotlib\n",
    "import matplotlib.pyplot as plt\n",
    "# Make sure matplotlib plots appear inline\n",
    "%matplotlib inline"
   ]
  },
  {
   "cell_type": "markdown",
   "metadata": {},
   "source": [
    "Now, let's import the dataset. \n",
    "\n",
    "In the cell below:\n",
    "\n",
    "* Use `pandas` to read in the data stored in the file `'population.csv'` \n",
    "* Print the first five rows of the DataFrame to ensure everything loaded correctly and get a feel for what this dataset contains "
   ]
  },
  {
   "cell_type": "code",
   "execution_count": 3,
   "metadata": {},
   "outputs": [
    {
     "data": {
      "text/html": [
       "<div>\n",
       "<style scoped>\n",
       "    .dataframe tbody tr th:only-of-type {\n",
       "        vertical-align: middle;\n",
       "    }\n",
       "\n",
       "    .dataframe tbody tr th {\n",
       "        vertical-align: top;\n",
       "    }\n",
       "\n",
       "    .dataframe thead th {\n",
       "        text-align: right;\n",
       "    }\n",
       "</style>\n",
       "<table border=\"1\" class=\"dataframe\">\n",
       "  <thead>\n",
       "    <tr style=\"text-align: right;\">\n",
       "      <th></th>\n",
       "      <th>Country Name</th>\n",
       "      <th>Country Code</th>\n",
       "      <th>Year</th>\n",
       "      <th>Value</th>\n",
       "    </tr>\n",
       "  </thead>\n",
       "  <tbody>\n",
       "    <tr>\n",
       "      <td>0</td>\n",
       "      <td>Arab World</td>\n",
       "      <td>ARB</td>\n",
       "      <td>1960</td>\n",
       "      <td>92490932.0</td>\n",
       "    </tr>\n",
       "    <tr>\n",
       "      <td>1</td>\n",
       "      <td>Arab World</td>\n",
       "      <td>ARB</td>\n",
       "      <td>1961</td>\n",
       "      <td>95044497.0</td>\n",
       "    </tr>\n",
       "    <tr>\n",
       "      <td>2</td>\n",
       "      <td>Arab World</td>\n",
       "      <td>ARB</td>\n",
       "      <td>1962</td>\n",
       "      <td>97682294.0</td>\n",
       "    </tr>\n",
       "    <tr>\n",
       "      <td>3</td>\n",
       "      <td>Arab World</td>\n",
       "      <td>ARB</td>\n",
       "      <td>1963</td>\n",
       "      <td>100411076.0</td>\n",
       "    </tr>\n",
       "    <tr>\n",
       "      <td>4</td>\n",
       "      <td>Arab World</td>\n",
       "      <td>ARB</td>\n",
       "      <td>1964</td>\n",
       "      <td>103239902.0</td>\n",
       "    </tr>\n",
       "  </tbody>\n",
       "</table>\n",
       "</div>"
      ],
      "text/plain": [
       "  Country Name Country Code  Year        Value\n",
       "0   Arab World          ARB  1960   92490932.0\n",
       "1   Arab World          ARB  1961   95044497.0\n",
       "2   Arab World          ARB  1962   97682294.0\n",
       "3   Arab World          ARB  1963  100411076.0\n",
       "4   Arab World          ARB  1964  103239902.0"
      ]
     },
     "execution_count": 3,
     "metadata": {},
     "output_type": "execute_result"
    }
   ],
   "source": [
    "# Import the file\n",
    "df = pd.read_csv('population.csv')\n",
    "\n",
    "# Print the first five rows \n",
    "df.head()"
   ]
  },
  {
   "cell_type": "markdown",
   "metadata": {},
   "source": [
    "Our columns look fairly standard. Let's take a look at the `value_counts()` of the `'Country Name'` column to get a feel for how many years there are per country. \n",
    "\n",
    "Do this now in the cell below. "
   ]
  },
  {
   "cell_type": "code",
   "execution_count": 8,
   "metadata": {},
   "outputs": [
    {
     "data": {
      "text/plain": [
       "Spain                        57\n",
       "Namibia                      57\n",
       "Lebanon                      57\n",
       "Bermuda                      57\n",
       "European Union               57\n",
       "                             ..\n",
       "Kuwait                       54\n",
       "Eritrea                      52\n",
       "Serbia                       27\n",
       "West Bank and Gaza           27\n",
       "Sint Maarten (Dutch part)    19\n",
       "Name: Country Name, Length: 263, dtype: int64"
      ]
     },
     "execution_count": 8,
     "metadata": {},
     "output_type": "execute_result"
    }
   ],
   "source": [
    "# Look at the value_counts() of the 'Country Name' column \n",
    "df['Country Name'].value_counts()"
   ]
  },
  {
   "cell_type": "markdown",
   "metadata": {},
   "source": [
    "## Groupings and Subplots\n",
    "\n",
    "When creating subplots, it makes sense that we'll usually want the plots to contain data that is related to one another, so that the subplots will make it easy to visually compare and see trends or patterns. The easiest way to do this is to group our data by the types of information we're most interested in seeing. For this dataset, that means that we can group by `'Country Name'`, by `'Country Code'`, or by `'Year'`. Let's start by grouping by name.\n",
    "\n",
    "For our first subplot, we'll create 1 row containing 2 subplots. Let's start by getting some data for each of our plots. We'll do this by slicing data for the USA and Canada and storing them in separate variables. \n",
    "\n",
    "In the cell below:\n",
    "\n",
    "* Slice all the rows for '`United States`' and store them in the appropriate variable. \n",
    "* Slice all the rows for '`Canada`' and store them in the appropriate variable. \n",
    "* Inspect the `head()` of each to ensure that we grabbed the data correctly. "
   ]
  },
  {
   "cell_type": "code",
   "execution_count": 10,
   "metadata": {},
   "outputs": [
    {
     "data": {
      "text/html": [
       "<div>\n",
       "<style scoped>\n",
       "    .dataframe tbody tr th:only-of-type {\n",
       "        vertical-align: middle;\n",
       "    }\n",
       "\n",
       "    .dataframe tbody tr th {\n",
       "        vertical-align: top;\n",
       "    }\n",
       "\n",
       "    .dataframe thead th {\n",
       "        text-align: right;\n",
       "    }\n",
       "</style>\n",
       "<table border=\"1\" class=\"dataframe\">\n",
       "  <thead>\n",
       "    <tr style=\"text-align: right;\">\n",
       "      <th></th>\n",
       "      <th>Country Name</th>\n",
       "      <th>Country Code</th>\n",
       "      <th>Year</th>\n",
       "      <th>Value</th>\n",
       "    </tr>\n",
       "  </thead>\n",
       "  <tbody>\n",
       "    <tr>\n",
       "      <td>14288</td>\n",
       "      <td>United States</td>\n",
       "      <td>USA</td>\n",
       "      <td>1960</td>\n",
       "      <td>180671000.0</td>\n",
       "    </tr>\n",
       "    <tr>\n",
       "      <td>14289</td>\n",
       "      <td>United States</td>\n",
       "      <td>USA</td>\n",
       "      <td>1961</td>\n",
       "      <td>183691000.0</td>\n",
       "    </tr>\n",
       "    <tr>\n",
       "      <td>14290</td>\n",
       "      <td>United States</td>\n",
       "      <td>USA</td>\n",
       "      <td>1962</td>\n",
       "      <td>186538000.0</td>\n",
       "    </tr>\n",
       "    <tr>\n",
       "      <td>14291</td>\n",
       "      <td>United States</td>\n",
       "      <td>USA</td>\n",
       "      <td>1963</td>\n",
       "      <td>189242000.0</td>\n",
       "    </tr>\n",
       "    <tr>\n",
       "      <td>14292</td>\n",
       "      <td>United States</td>\n",
       "      <td>USA</td>\n",
       "      <td>1964</td>\n",
       "      <td>191889000.0</td>\n",
       "    </tr>\n",
       "  </tbody>\n",
       "</table>\n",
       "</div>"
      ],
      "text/plain": [
       "        Country Name Country Code  Year        Value\n",
       "14288  United States          USA  1960  180671000.0\n",
       "14289  United States          USA  1961  183691000.0\n",
       "14290  United States          USA  1962  186538000.0\n",
       "14291  United States          USA  1963  189242000.0\n",
       "14292  United States          USA  1964  191889000.0"
      ]
     },
     "execution_count": 10,
     "metadata": {},
     "output_type": "execute_result"
    }
   ],
   "source": [
    "# Slice all the rows for USA\n",
    "usa = df[df['Country Name'] == 'United States']\n",
    "\n",
    "# Slice all the rows for Canada\n",
    "canada = df[df['Country Name'] == 'Canada']\n",
    "\n",
    "# Inspect the head of USA and Canada\n",
    "usa.head()"
   ]
  },
  {
   "cell_type": "code",
   "execution_count": 11,
   "metadata": {},
   "outputs": [
    {
     "data": {
      "text/html": [
       "<div>\n",
       "<style scoped>\n",
       "    .dataframe tbody tr th:only-of-type {\n",
       "        vertical-align: middle;\n",
       "    }\n",
       "\n",
       "    .dataframe tbody tr th {\n",
       "        vertical-align: top;\n",
       "    }\n",
       "\n",
       "    .dataframe thead th {\n",
       "        text-align: right;\n",
       "    }\n",
       "</style>\n",
       "<table border=\"1\" class=\"dataframe\">\n",
       "  <thead>\n",
       "    <tr style=\"text-align: right;\">\n",
       "      <th></th>\n",
       "      <th>Country Name</th>\n",
       "      <th>Country Code</th>\n",
       "      <th>Year</th>\n",
       "      <th>Value</th>\n",
       "    </tr>\n",
       "  </thead>\n",
       "  <tbody>\n",
       "    <tr>\n",
       "      <td>4617</td>\n",
       "      <td>Canada</td>\n",
       "      <td>CAN</td>\n",
       "      <td>1960</td>\n",
       "      <td>17909009.0</td>\n",
       "    </tr>\n",
       "    <tr>\n",
       "      <td>4618</td>\n",
       "      <td>Canada</td>\n",
       "      <td>CAN</td>\n",
       "      <td>1961</td>\n",
       "      <td>18271000.0</td>\n",
       "    </tr>\n",
       "    <tr>\n",
       "      <td>4619</td>\n",
       "      <td>Canada</td>\n",
       "      <td>CAN</td>\n",
       "      <td>1962</td>\n",
       "      <td>18614000.0</td>\n",
       "    </tr>\n",
       "    <tr>\n",
       "      <td>4620</td>\n",
       "      <td>Canada</td>\n",
       "      <td>CAN</td>\n",
       "      <td>1963</td>\n",
       "      <td>18964000.0</td>\n",
       "    </tr>\n",
       "    <tr>\n",
       "      <td>4621</td>\n",
       "      <td>Canada</td>\n",
       "      <td>CAN</td>\n",
       "      <td>1964</td>\n",
       "      <td>19325000.0</td>\n",
       "    </tr>\n",
       "  </tbody>\n",
       "</table>\n",
       "</div>"
      ],
      "text/plain": [
       "     Country Name Country Code  Year       Value\n",
       "4617       Canada          CAN  1960  17909009.0\n",
       "4618       Canada          CAN  1961  18271000.0\n",
       "4619       Canada          CAN  1962  18614000.0\n",
       "4620       Canada          CAN  1963  18964000.0\n",
       "4621       Canada          CAN  1964  19325000.0"
      ]
     },
     "execution_count": 11,
     "metadata": {},
     "output_type": "execute_result"
    }
   ],
   "source": [
    "canada.head()"
   ]
  },
  {
   "cell_type": "markdown",
   "metadata": {},
   "source": [
    "Now that our data is ready, lets go ahead and create a basic subplot. For our first batch of subplots, we'll use the quick way by making use of `plt.subplot()` and passing in the number of rows, number of columns, and the number of the subplots that we want to create. Then, we'll create our plot by passing in the corresponding data. \n",
    "\n",
    "When we call `plt.subplot()`, it will return an `ax` (short for 'axis') object that corresponds to the third parameter we pass in -- the actual plot we will want to create. To create subplots on the fly with this method, we'll:\n",
    "\n",
    "1. Get the `ax` object for the first plot in the subplot we want to create. Store this in the variable `ax1` \n",
    "2. Call `.plot()` on the `usa` DataFrame, and specify the following parameters:\n",
    "    * `x='Year'`\n",
    "    * `y='Value'`\n",
    "    * `ax=ax1`\n",
    "3. Use the `ax1` object's methods to do any labeling we find necessary \n",
    "4. Repeat the process for `canada` with the second plot. Store this axis in `ax2`   \n",
    "\n",
    "Do this now in the cell below. "
   ]
  },
  {
   "cell_type": "code",
   "execution_count": 16,
   "metadata": {
    "scrolled": true
   },
   "outputs": [
    {
     "data": {
      "text/plain": [
       "Text(0, 0.5, 'Population')"
      ]
     },
     "execution_count": 16,
     "metadata": {},
     "output_type": "execute_result"
    },
    {
     "data": {
      "image/png": "[encoded data removed]",
      "text/plain": [
       "<Figure size 432x288 with 2 Axes>"
      ]
     },
     "metadata": {
      "needs_background": "light"
     },
     "output_type": "display_data"
    }
   ],
   "source": [
    "# Subplot for USA\n",
    "ax1 = plt.subplot(121)\n",
    "usa.plot(x='Year', y='Value', ax=ax1, label='USA')\n",
    "ax1.set_title('USA Population')\n",
    "ax1.set_xlabel('Year'), ax1.set_ylabel('Population')\n",
    "\n",
    "# Subplot for Canada\n",
    "ax2 = plt.subplot(122)\n",
    "canada.plot(x='Year', y='Value', ax=ax2, label='Canada')\n",
    "ax2.set_title('Canada Population')\n",
    "ax2.set_xlabel('Year')\n",
    "ax2.set_ylabel('Population')"
   ]
  },
  {
   "cell_type": "markdown",
   "metadata": {},
   "source": [
    "Our plots look pretty good, but they're a bit squished together, and the plots themselves are much too small, which squishes the axis values.  Both of these problems have an easy fix. We'll begin by using `plt.figure()` and passing in a larger `figsize` of `(20, 10)` to tell matplotlib we want the full subplot to be 20 inches by 10.  \n",
    "\n",
    "We can fix the spacing quite easily by using `plt.subplots_adjust()` and changing the amount of space in between our plots. The [documentation for `subplots_adjust`](https://matplotlib.org/api/_as_gen/matplotlib.pyplot.subplots_adjust.html) tells us that the parameter we need to adjust is `wspace`. This is set to `0.2` by default, meaning that the amount of space between our plots is equal to 20% of the width of the plots. Let's set `wspace=0.4`, and see how that looks.\n",
    "\n",
    "In the cell below: \n",
    "\n",
    "* Call `plt.figure()` and use the `figsize` parameter to set the size of the total subplot to 20 inches wide by 10 inches tall. Remember to pass these values in as a tuple, with width first and height second  \n",
    "* Copy the visualization code from the cell above into the cell below  \n",
    "* After setting the title for the Canada plot, add the line `plt.subplots_adjust()` and pass in the parameter `wspace=0.4` "
   ]
  },
  {
   "cell_type": "code",
   "execution_count": 18,
   "metadata": {},
   "outputs": [
    {
     "data": {
      "image/png": "[encoded data removed]",
      "text/plain": [
       "<Figure size 1440x720 with 2 Axes>"
      ]
     },
     "metadata": {
      "needs_background": "light"
     },
     "output_type": "display_data"
    }
   ],
   "source": [
    "# Create figure\n",
    "plt.figure(figsize=(20, 10))\n",
    "\n",
    "# Subplot for USA\n",
    "ax1 = plt.subplot(121)\n",
    "usa.plot(x='Year', y='Value', ax=ax1, label='USA')\n",
    "ax1.set_title('USA Population')\n",
    "ax1.set_xlabel('Year'), ax1.set_ylabel('Population')\n",
    "\n",
    "# Subplot for Canada\n",
    "ax2 = plt.subplot(122)\n",
    "canada.plot(x='Year', y='Value', ax=ax2, label='Canada')\n",
    "ax2.set_title('Canada Population')\n",
    "ax2.set_xlabel('Year')\n",
    "ax2.set_ylabel('Population')\n",
    "\n",
    "plt.subplots_adjust(wspace=0.4)"
   ]
  },
  {
   "cell_type": "markdown",
   "metadata": {},
   "source": [
    "Much better!\n",
    "\n",
    "Next, we'll see some advanced methods for creating subplots. But, before we do that, let's take a brief detour and learn about the `enumerate` keyword!\n",
    "\n",
    "## Using `enumerate()`\n",
    "\n",
    "Python's `enumerate()` keyword is a special type of `for` loop. It works just like a regular `for` loop, with one major difference -- instead of just returning the next object with each iteration of the loop, it also returns the index of the object from the collection we're looping through! \n",
    "\n",
    "Run the example code in the cell below, and examine the output. That should make it clear what is happening. "
   ]
  },
  {
   "cell_type": "code",
   "execution_count": 19,
   "metadata": {},
   "outputs": [
    {
     "name": "stdout",
     "output_type": "stream",
     "text": [
      "Index: 0      Value: foo\n",
      "Index: 1      Value: bar\n",
      "Index: 2      Value: baz\n"
     ]
    }
   ],
   "source": [
    "sample_list = ['foo', 'bar', 'baz']\n",
    "\n",
    "for index, value in enumerate(sample_list):\n",
    "    print(\"Index: {}      Value: {}\".format(index, value))    "
   ]
  },
  {
   "cell_type": "markdown",
   "metadata": {},
   "source": [
    "The `enumerate` keyword is extremely helpful anytime we need to do something that needs the index of the item we're looping through. Let's try an example: \n",
    "\n",
    "In the cell below: \n",
    "* `enumerate()` through `sample_list_2` \n",
    "* For any item in `sample_list_2`, append it to the `odds` list if it's index is an odd number \n",
    "* Once the loop has finished, print `odds` "
   ]
  },
  {
   "cell_type": "code",
   "execution_count": 23,
   "metadata": {},
   "outputs": [
    {
     "data": {
      "text/plain": [
       "['item at Index 1',\n",
       " 'item at Index 3',\n",
       " 'item at Index 5',\n",
       " 'item at Index 7',\n",
       " 'item at Index 9']"
      ]
     },
     "execution_count": 23,
     "metadata": {},
     "output_type": "execute_result"
    }
   ],
   "source": [
    "sample_list_2 = ['item at Index ' + str(i) for i in range(10)]\n",
    "odds = []\n",
    "\n",
    "# Write your code below this line\n",
    "for index, value in enumerate(sample_list_2):\n",
    "    if index%2:\n",
    "        odds.append(value)\n",
    "\n",
    "\n",
    "\n",
    "# Write your code above this line\n",
    "\n",
    "odds\n",
    "# Expected Output: \n",
    "# ['item at Index 1',\n",
    "#  'item at Index 3',\n",
    "#  'item at Index 5',\n",
    "#  'item at Index 7',\n",
    "#  'item at Index 9']"
   ]
  },
  {
   "cell_type": "markdown",
   "metadata": {},
   "source": [
    "Great! There are plenty of situations where `enumerate()` comes in very handy. By allowing us to get the index and the value at the same time, it makes it simple to manipulate one variable based on the value of the other. This is a natural requirement of subplots.\n",
    "\n",
    "## Enumerating with Subplots\n",
    "\n",
    "To end this lab, we'll see how we can use `enumerate` to easily subplot this entire DataFrame by country -- all 263 of them!\n",
    "\n",
    "It will work like this. We'll begin by grouping each row in our DataFrame by `'Country Name'`. Then, we'll create a `plt.figure()` and set the figure size to `(20,40)`. We'll also set the `facecolor` to `'white'`, so that it's a bit easier to read. \n",
    "\n",
    "Then comes the fun part. We'll enumerate through our grouped DataFrame. Just looping through a grouped DataFrame returns a tuple containing the index and the rows with that country name. Since we're grouped by `'Country Name'`, this means that the index will actually be the `'Country Name'`. However, we're not just looping through the grouped DataFrame -- we're `enumerate`-ing through it! \n",
    "\n",
    "```python\n",
    "for index, (value1, value2) in enumerate(grouped_DataFrame):\n",
    "    # index is an integer, starting at 0 and counting up by 1 just \n",
    "    # like we would expect a for loop to do\n",
    "    \n",
    "    #(value1, value2) is a tuple containing the name of the country as value 1\n",
    "    # (since it is acting as the index because we grouped everything by it),\n",
    "    # and value 2 is all the rows that belong to that country's group. \n",
    "    \n",
    "```\n",
    "\n",
    "This means that the `index` for our enumeration will be an integer value that counts higher by 1 with each country. If we just add 1 to it (because subplots start counting at 1, but Python starts counting at 0), then this number will correspond with the index we need to pass in as the third parameter in `plt.subplot()` -- the parameter that specifies which plot inside the subplot should show the plot we're about to create. \n",
    "\n",
    "Don't worry if this seems confusing -- the code below has been commented to help you. "
   ]
  },
  {
   "cell_type": "code",
   "execution_count": 27,
   "metadata": {},
   "outputs": [
    {
     "data": {
      "text/html": [
       "<div>\n",
       "<style scoped>\n",
       "    .dataframe tbody tr th:only-of-type {\n",
       "        vertical-align: middle;\n",
       "    }\n",
       "\n",
       "    .dataframe tbody tr th {\n",
       "        vertical-align: top;\n",
       "    }\n",
       "\n",
       "    .dataframe thead th {\n",
       "        text-align: right;\n",
       "    }\n",
       "</style>\n",
       "<table border=\"1\" class=\"dataframe\">\n",
       "  <thead>\n",
       "    <tr style=\"text-align: right;\">\n",
       "      <th></th>\n",
       "      <th>Year</th>\n",
       "      <th>Value</th>\n",
       "    </tr>\n",
       "  </thead>\n",
       "  <tbody>\n",
       "    <tr>\n",
       "      <td>count</td>\n",
       "      <td>14885.000000</td>\n",
       "      <td>1.488500e+04</td>\n",
       "    </tr>\n",
       "    <tr>\n",
       "      <td>mean</td>\n",
       "      <td>1988.068928</td>\n",
       "      <td>2.047972e+08</td>\n",
       "    </tr>\n",
       "    <tr>\n",
       "      <td>std</td>\n",
       "      <td>16.456023</td>\n",
       "      <td>6.759235e+08</td>\n",
       "    </tr>\n",
       "    <tr>\n",
       "      <td>min</td>\n",
       "      <td>1960.000000</td>\n",
       "      <td>4.279000e+03</td>\n",
       "    </tr>\n",
       "    <tr>\n",
       "      <td>25%</td>\n",
       "      <td>1974.000000</td>\n",
       "      <td>9.124170e+05</td>\n",
       "    </tr>\n",
       "    <tr>\n",
       "      <td>50%</td>\n",
       "      <td>1988.000000</td>\n",
       "      <td>6.299909e+06</td>\n",
       "    </tr>\n",
       "    <tr>\n",
       "      <td>75%</td>\n",
       "      <td>2002.000000</td>\n",
       "      <td>4.177300e+07</td>\n",
       "    </tr>\n",
       "    <tr>\n",
       "      <td>max</td>\n",
       "      <td>2016.000000</td>\n",
       "      <td>7.442136e+09</td>\n",
       "    </tr>\n",
       "  </tbody>\n",
       "</table>\n",
       "</div>"
      ],
      "text/plain": [
       "               Year         Value\n",
       "count  14885.000000  1.488500e+04\n",
       "mean    1988.068928  2.047972e+08\n",
       "std       16.456023  6.759235e+08\n",
       "min     1960.000000  4.279000e+03\n",
       "25%     1974.000000  9.124170e+05\n",
       "50%     1988.000000  6.299909e+06\n",
       "75%     2002.000000  4.177300e+07\n",
       "max     2016.000000  7.442136e+09"
      ]
     },
     "execution_count": 27,
     "metadata": {},
     "output_type": "execute_result"
    }
   ],
   "source": [
    "df.describe()"
   ]
  },
  {
   "cell_type": "code",
   "execution_count": null,
   "metadata": {},
   "outputs": [],
   "source": [
    "# Group the DataFrame by Country Name (this line has been provided for you)\n",
    "grouped_df = df.groupby('Country Name')\n",
    "\n",
    "# pass in figsize=(20,40) and also set the facecolor parameter to 'white'\n",
    "plt.figure(figsize=(20,40), facecolor='white')\n",
    "\n",
    "# Complete the line below so that the first loop variable is the called index,\n",
    "# and the second loop variable is the tuple (countryname, population)  \n",
    "for index, (countryname, population) in enumerate(grouped_df):\n",
    "    \n",
    "    # Get the unique subplot where the plot we're creating during this iteration\n",
    "    # of the loop will live. Our subplot will be 30 rows of 9 plots each  \n",
    "    # Set the third value to be index+1\n",
    "    ax = plt.subplot(30, 9, index+1)\n",
    "    \n",
    "    # Complete the line to create the plot for this subplot  \n",
    "    # Same visualizations as we created above!\n",
    "    population.plot(x='Year', y='Value', ax=ax, legend=countryname)\n",
    "    \n",
    "    # Set the title of each plot, so we know which country it represents\n",
    "    ax.set_title(countryname)\n",
    "\n",
    "plt.subplots_adjust(wspace=0.4, hspace=1)"
   ]
  },
  {
   "cell_type": "markdown",
   "metadata": {},
   "source": [
    "Great job! Being able to effectively create subplots with `matplotlib` is a solid data visualization skill to have -- and using `enumerate()` makes our code that much simpler!\n",
    "\n",
    "## Summary\n",
    "\n",
    "In this lab, we learned how to create advanced subplots using `enumerate()` on grouped DataFrames!"
   ]
  }
 ],
 "metadata": {
  "kernelspec": {
   "display_name": "Python 3",
   "language": "python",
   "name": "python3"
  },
  "language_info": {
   "codemirror_mode": {
    "name": "ipython",
    "version": 3
   },
   "file_extension": ".py",
   "mimetype": "text/x-python",
   "name": "python",
   "nbconvert_exporter": "python",
   "pygments_lexer": "ipython3",
   "version": "3.6.9"
  }
 },
 "nbformat": 4,
 "nbformat_minor": 2
}
